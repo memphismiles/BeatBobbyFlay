{
 "cells": [
  {
   "cell_type": "markdown",
   "id": "90d6e65e-4bd7-4298-b1aa-660f3292b720",
   "metadata": {},
   "source": [
    "# How to Beat Bobby Flay\n",
    "### Memphis Lau\n",
    "\n",
    "*Beat Bobby Flay* is a TV cooking show hosted and starring the famous chef Bobby Flay. In this show, there are two rounds. The first round starts with two competitors, who face off in a timed battle to cook any dish using a special chosen ingredient. Guests, usually friends of Bobby Flay or celebrities, choose whose dish is better. \n",
    "\n",
    "The winner moves on to the final round, now against Bobby Flay. The contestant can pick any dish he/she wants, and Bobby must make the same dish. After time runs out, 3 professional chefs come out and judge the dishes without knowing who made which dish. The dish with the most votes wins.\n",
    "\n",
    "## Reading in and Cleaning Data"
   ]
  },
  {
   "cell_type": "code",
   "execution_count": 1,
   "id": "3bbebf0c-1d5a-4f08-9b6e-495e30062a72",
   "metadata": {},
   "outputs": [],
   "source": [
    "import numpy as np\n",
    "import pandas as pd\n",
    "from pandas.api.types import CategoricalDtype\n",
    "import matplotlib.pyplot as plt\n",
    "data = pd.read_csv(\"beatbobbyflay.csv\")"
   ]
  },
  {
   "cell_type": "code",
   "execution_count": 2,
   "id": "b0169d44-55c6-4d51-9630-a094b07eb04b",
   "metadata": {},
   "outputs": [
    {
     "data": {
      "text/html": [
       "<div>\n",
       "<style scoped>\n",
       "    .dataframe tbody tr th:only-of-type {\n",
       "        vertical-align: middle;\n",
       "    }\n",
       "\n",
       "    .dataframe tbody tr th {\n",
       "        vertical-align: top;\n",
       "    }\n",
       "\n",
       "    .dataframe thead th {\n",
       "        text-align: right;\n",
       "    }\n",
       "</style>\n",
       "<table border=\"1\" class=\"dataframe\">\n",
       "  <thead>\n",
       "    <tr style=\"text-align: right;\">\n",
       "      <th></th>\n",
       "      <th>num_overall</th>\n",
       "      <th>num_within_season</th>\n",
       "      <th>title</th>\n",
       "      <th>airdate</th>\n",
       "      <th>ingredients</th>\n",
       "      <th>dish</th>\n",
       "      <th>cuisine_type</th>\n",
       "      <th>winner</th>\n",
       "      <th>season</th>\n",
       "      <th>guest1</th>\n",
       "      <th>guest2</th>\n",
       "      <th>guest3</th>\n",
       "      <th>contestant1</th>\n",
       "      <th>contestant2</th>\n",
       "      <th>judge1</th>\n",
       "      <th>judge2</th>\n",
       "      <th>judge3</th>\n",
       "    </tr>\n",
       "  </thead>\n",
       "  <tbody>\n",
       "    <tr>\n",
       "      <th>0</th>\n",
       "      <td>1</td>\n",
       "      <td>1</td>\n",
       "      <td>\"Grueneberg and Nunziata\"</td>\n",
       "      <td>August 24, 2013</td>\n",
       "      <td>zucchini</td>\n",
       "      <td>chicken parm</td>\n",
       "      <td>Italian</td>\n",
       "      <td>Sarah Grueneberg</td>\n",
       "      <td>1</td>\n",
       "      <td>Alex Guarnaschelli</td>\n",
       "      <td>Jeff Mauro</td>\n",
       "      <td>NaN</td>\n",
       "      <td>Alberico Nunziata</td>\n",
       "      <td>Sarah Grueneberg</td>\n",
       "      <td>Billy Grant</td>\n",
       "      <td>Marissa May</td>\n",
       "      <td>Lauren DeMaio</td>\n",
       "    </tr>\n",
       "    <tr>\n",
       "      <th>1</th>\n",
       "      <td>2</td>\n",
       "      <td>2</td>\n",
       "      <td>\"Welcome to New York!\"</td>\n",
       "      <td>March 3, 2014</td>\n",
       "      <td>skirt steak</td>\n",
       "      <td>shrimp and grits</td>\n",
       "      <td>American</td>\n",
       "      <td>Bobby Flay</td>\n",
       "      <td>1</td>\n",
       "      <td>Sunny Anderson</td>\n",
       "      <td>Jonathan Waxman</td>\n",
       "      <td>NaN</td>\n",
       "      <td>Jennifer Nguyen</td>\n",
       "      <td>Anthony Lamas</td>\n",
       "      <td>Cobi Levy</td>\n",
       "      <td>Kelsey Nixon</td>\n",
       "      <td>Roberto Treviño</td>\n",
       "    </tr>\n",
       "    <tr>\n",
       "      <th>2</th>\n",
       "      <td>3</td>\n",
       "      <td>3</td>\n",
       "      <td>\"Farmer and the Belle\"</td>\n",
       "      <td>March 6, 2014</td>\n",
       "      <td>red prawn</td>\n",
       "      <td>chicken and waffles</td>\n",
       "      <td>American</td>\n",
       "      <td>Bobby Flay</td>\n",
       "      <td>1</td>\n",
       "      <td>Michael Symon</td>\n",
       "      <td>Simon Majumdar</td>\n",
       "      <td>NaN</td>\n",
       "      <td>Matthew Raiford</td>\n",
       "      <td>Karen Akunowicz</td>\n",
       "      <td>Corby Kummer</td>\n",
       "      <td>Melba Wilson</td>\n",
       "      <td>Harold Dieterle</td>\n",
       "    </tr>\n",
       "    <tr>\n",
       "      <th>3</th>\n",
       "      <td>4</td>\n",
       "      <td>4</td>\n",
       "      <td>\"Old Dog, New Tricks\"</td>\n",
       "      <td>March 13, 2014</td>\n",
       "      <td>cauliflower</td>\n",
       "      <td>meat tacos</td>\n",
       "      <td>Mexican</td>\n",
       "      <td>Brian Tsao</td>\n",
       "      <td>1</td>\n",
       "      <td>Alex Guarnaschelli</td>\n",
       "      <td>Anne Burrell</td>\n",
       "      <td>NaN</td>\n",
       "      <td>Adam Harvey</td>\n",
       "      <td>Brian Tsao</td>\n",
       "      <td>Michael Chernow</td>\n",
       "      <td>Daniel Holzman</td>\n",
       "      <td>Wylie Dufresne</td>\n",
       "    </tr>\n",
       "    <tr>\n",
       "      <th>4</th>\n",
       "      <td>5</td>\n",
       "      <td>5</td>\n",
       "      <td>\"Fighting Irish\"</td>\n",
       "      <td>March 20, 2014</td>\n",
       "      <td>scallops</td>\n",
       "      <td>bangers &amp; mash</td>\n",
       "      <td>British</td>\n",
       "      <td>Bobby Flay</td>\n",
       "      <td>1</td>\n",
       "      <td>Giada De Laurentiis</td>\n",
       "      <td>Mo Rocca</td>\n",
       "      <td>NaN</td>\n",
       "      <td>Steven McHugh</td>\n",
       "      <td>Brian Young</td>\n",
       "      <td>Ed Levine</td>\n",
       "      <td>Madison Cowan</td>\n",
       "      <td>Nils Norén</td>\n",
       "    </tr>\n",
       "  </tbody>\n",
       "</table>\n",
       "</div>"
      ],
      "text/plain": [
       "   num_overall  num_within_season                      title          airdate  \\\n",
       "0            1                  1  \"Grueneberg and Nunziata\"  August 24, 2013   \n",
       "1            2                  2     \"Welcome to New York!\"    March 3, 2014   \n",
       "2            3                  3     \"Farmer and the Belle\"    March 6, 2014   \n",
       "3            4                  4      \"Old Dog, New Tricks\"   March 13, 2014   \n",
       "4            5                  5           \"Fighting Irish\"   March 20, 2014   \n",
       "\n",
       "   ingredients                 dish cuisine_type            winner  season  \\\n",
       "0     zucchini         chicken parm      Italian  Sarah Grueneberg       1   \n",
       "1  skirt steak     shrimp and grits     American        Bobby Flay       1   \n",
       "2    red prawn  chicken and waffles     American        Bobby Flay       1   \n",
       "3  cauliflower           meat tacos      Mexican        Brian Tsao       1   \n",
       "4     scallops       bangers & mash      British        Bobby Flay       1   \n",
       "\n",
       "                guest1           guest2 guest3        contestant1  \\\n",
       "0   Alex Guarnaschelli       Jeff Mauro    NaN  Alberico Nunziata   \n",
       "1       Sunny Anderson  Jonathan Waxman    NaN    Jennifer Nguyen   \n",
       "2        Michael Symon   Simon Majumdar    NaN    Matthew Raiford   \n",
       "3   Alex Guarnaschelli     Anne Burrell    NaN        Adam Harvey   \n",
       "4  Giada De Laurentiis         Mo Rocca    NaN      Steven McHugh   \n",
       "\n",
       "        contestant2           judge1          judge2           judge3  \n",
       "0  Sarah Grueneberg      Billy Grant     Marissa May    Lauren DeMaio  \n",
       "1     Anthony Lamas        Cobi Levy    Kelsey Nixon  Roberto Treviño  \n",
       "2   Karen Akunowicz     Corby Kummer    Melba Wilson  Harold Dieterle  \n",
       "3        Brian Tsao  Michael Chernow  Daniel Holzman   Wylie Dufresne  \n",
       "4       Brian Young        Ed Levine   Madison Cowan       Nils Norén  "
      ]
     },
     "execution_count": 2,
     "metadata": {},
     "output_type": "execute_result"
    }
   ],
   "source": [
    "data.head()"
   ]
  },
  {
   "cell_type": "code",
   "execution_count": 3,
   "id": "5bb02d33-7e14-4a7e-9d27-09bfe1baa0bd",
   "metadata": {},
   "outputs": [
    {
     "name": "stdout",
     "output_type": "stream",
     "text": [
      "<class 'pandas.core.frame.DataFrame'>\n",
      "RangeIndex: 306 entries, 0 to 305\n",
      "Data columns (total 17 columns):\n",
      " #   Column             Non-Null Count  Dtype \n",
      "---  ------             --------------  ----- \n",
      " 0   num_overall        306 non-null    int64 \n",
      " 1   num_within_season  306 non-null    int64 \n",
      " 2   title              306 non-null    object\n",
      " 3   airdate            306 non-null    object\n",
      " 4   ingredients        306 non-null    object\n",
      " 5   dish               306 non-null    object\n",
      " 6   cuisine_type       306 non-null    object\n",
      " 7   winner             306 non-null    object\n",
      " 8   season             306 non-null    int64 \n",
      " 9   guest1             306 non-null    object\n",
      " 10  guest2             299 non-null    object\n",
      " 11  guest3             4 non-null      object\n",
      " 12  contestant1        306 non-null    object\n",
      " 13  contestant2        306 non-null    object\n",
      " 14  judge1             306 non-null    object\n",
      " 15  judge2             306 non-null    object\n",
      " 16  judge3             306 non-null    object\n",
      "dtypes: int64(3), object(14)\n",
      "memory usage: 40.8+ KB\n"
     ]
    }
   ],
   "source": [
    "data.info()"
   ]
  },
  {
   "cell_type": "markdown",
   "id": "1f2d3193-3a18-4ac8-a9be-55d060e97464",
   "metadata": {},
   "source": [
    "As we can see, all of the columns are filled with non-missing values, except for 6 episodes that only had 1 guest and 302 episodes that did not have a 3rd guest. This does not matter for the sake of our project, since the guests do not play a significant role in whether or not Bobby Flay wins, and thus will not be analyzed.\n",
    "\n",
    "Because our main target is finding patterns and trends in how to beat Bobby Flay, we will create a column that solely represents whether or not Bobby Flay won that episode."
   ]
  },
  {
   "cell_type": "code",
   "execution_count": 4,
   "id": "65a5a78e-da04-4d2c-9cf5-b248ecb3cf02",
   "metadata": {},
   "outputs": [],
   "source": [
    "data['Win'] = list(data.winner == 'Bobby Flay')"
   ]
  },
  {
   "cell_type": "code",
   "execution_count": 5,
   "id": "451a77b6-25d4-40e0-bae4-98f5656ff3dd",
   "metadata": {},
   "outputs": [
    {
     "data": {
      "text/plain": [
       "192"
      ]
     },
     "execution_count": 5,
     "metadata": {},
     "output_type": "execute_result"
    }
   ],
   "source": [
    "sum(data.Win)"
   ]
  },
  {
   "cell_type": "markdown",
   "id": "2d328ec7-ce0d-45d0-a6b5-46705cbe62d4",
   "metadata": {},
   "source": [
    "We see that Bobby Flay has won in 192 of the 306 episodes in this dataset, a 62.7% clip. In the rest of this section, we will analyze trends and patterns that show significant change in win rate for Bobby Flay.\n",
    "\n",
    "## Season Trends"
   ]
  },
  {
   "cell_type": "code",
   "execution_count": 6,
   "id": "d78d61f4-9fe3-47a1-aac8-b54c6d649910",
   "metadata": {},
   "outputs": [
    {
     "data": {
      "image/png": "[encoded data removed]",
      "text/plain": [
       "<Figure size 864x432 with 2 Axes>"
      ]
     },
     "metadata": {
      "needs_background": "light"
     },
     "output_type": "display_data"
    }
   ],
   "source": [
    "seasons = data.groupby('season').title.count()\n",
    "seasons_flay = data.groupby('season').Win.sum()\n",
    "seasons_win_prop = seasons_flay / seasons\n",
    "\n",
    "plt.figure(figsize = (12, 6))\n",
    "\n",
    "plt.subplot(1,2,1)\n",
    "plt.bar(seasons.index, seasons, color = 'white', edgecolor = 'red', alpha = 0.5, label = 'Total Episodes')\n",
    "plt.bar(seasons.index, seasons_flay, color = 'firebrick',  label = 'Bobby Flay Victories')\n",
    "plt.xlabel('Season')\n",
    "plt.ylabel('Episode Count')\n",
    "plt.title('Beat Bobby Flay by the Seasons')\n",
    "plt.legend()\n",
    "\n",
    "plt.subplot(1,2,2)\n",
    "plt.bar(seasons.index, seasons_win_prop, color = 'firebrick')\n",
    "plt.xlabel('Season')\n",
    "plt.ylabel('Proportion of Episodes Won by Bobby Flay')\n",
    "plt.title('Beat Bobby Flay by the Seasons (Proportions)')\n",
    "plt.show()"
   ]
  },
  {
   "cell_type": "markdown",
   "id": "a04603df-ebce-4309-9837-957b0fbbac6a",
   "metadata": {},
   "source": [
    "There appears to be no significant trend throughout seasons. There definitely are some seasons with high win percentages for Bobby Flay (and some with low win percentage), but they appear randomly."
   ]
  },
  {
   "cell_type": "code",
   "execution_count": 7,
   "id": "f7fe0e82-cb2a-453e-b347-1809284415ba",
   "metadata": {},
   "outputs": [
    {
     "data": {
      "image/png": "[encoded data removed]",
      "text/plain": [
       "<Figure size 432x288 with 1 Axes>"
      ]
     },
     "metadata": {
      "needs_background": "light"
     },
     "output_type": "display_data"
    }
   ],
   "source": [
    "plt.plot(seasons_win_prop.index, seasons_win_prop, 'o', color = 'firebrick')\n",
    "m, b = np.polyfit(seasons_win_prop.index, seasons_win_prop, 1)\n",
    "plt.plot(seasons_win_prop.index, m*seasons_win_prop.index+b, color = 'navy')\n",
    "plt.xlabel('Season')\n",
    "plt.ylabel('Bobby Flay Win Percentage')\n",
    "plt.title(\"Bobby Flay's Win Percentage Through Seasons\")\n",
    "plt.show()"
   ]
  },
  {
   "cell_type": "markdown",
   "id": "92e4ac44-1d85-48cf-868d-80c99d89041c",
   "metadata": {},
   "source": [
    "A linear regression line tells us that Bobby Flay's win percentage goes down as the seasons go on, but it is not a strong relation."
   ]
  },
  {
   "cell_type": "code",
   "execution_count": 8,
   "id": "2b2a3c94-f66f-4ce2-8923-0ff614680ed4",
   "metadata": {},
   "outputs": [
    {
     "data": {
      "text/html": [
       "<div>\n",
       "<style scoped>\n",
       "    .dataframe tbody tr th:only-of-type {\n",
       "        vertical-align: middle;\n",
       "    }\n",
       "\n",
       "    .dataframe tbody tr th {\n",
       "        vertical-align: top;\n",
       "    }\n",
       "\n",
       "    .dataframe thead th {\n",
       "        text-align: right;\n",
       "    }\n",
       "</style>\n",
       "<table border=\"1\" class=\"dataframe\">\n",
       "  <thead>\n",
       "    <tr style=\"text-align: right;\">\n",
       "      <th></th>\n",
       "      <th>Bobby Flay Win Percentage</th>\n",
       "    </tr>\n",
       "    <tr>\n",
       "      <th>season</th>\n",
       "      <th></th>\n",
       "    </tr>\n",
       "  </thead>\n",
       "  <tbody>\n",
       "    <tr>\n",
       "      <th>24</th>\n",
       "      <td>0.384615</td>\n",
       "    </tr>\n",
       "    <tr>\n",
       "      <th>14</th>\n",
       "      <td>0.461538</td>\n",
       "    </tr>\n",
       "    <tr>\n",
       "      <th>12</th>\n",
       "      <td>0.461538</td>\n",
       "    </tr>\n",
       "    <tr>\n",
       "      <th>23</th>\n",
       "      <td>0.500000</td>\n",
       "    </tr>\n",
       "    <tr>\n",
       "      <th>20</th>\n",
       "      <td>0.538462</td>\n",
       "    </tr>\n",
       "  </tbody>\n",
       "</table>\n",
       "</div>"
      ],
      "text/plain": [
       "        Bobby Flay Win Percentage\n",
       "season                           \n",
       "24                       0.384615\n",
       "14                       0.461538\n",
       "12                       0.461538\n",
       "23                       0.500000\n",
       "20                       0.538462"
      ]
     },
     "execution_count": 8,
     "metadata": {},
     "output_type": "execute_result"
    }
   ],
   "source": [
    "pd.DataFrame(seasons_win_prop.sort_values()[0:5]).rename(columns = {0: 'Bobby Flay Win Percentage'})"
   ]
  },
  {
   "cell_type": "code",
   "execution_count": 9,
   "id": "dbbea2bb-2cc8-4cc2-9a08-4b7d150624ac",
   "metadata": {},
   "outputs": [
    {
     "data": {
      "text/html": [
       "<div>\n",
       "<style scoped>\n",
       "    .dataframe tbody tr th:only-of-type {\n",
       "        vertical-align: middle;\n",
       "    }\n",
       "\n",
       "    .dataframe tbody tr th {\n",
       "        vertical-align: top;\n",
       "    }\n",
       "\n",
       "    .dataframe thead th {\n",
       "        text-align: right;\n",
       "    }\n",
       "</style>\n",
       "<table border=\"1\" class=\"dataframe\">\n",
       "  <thead>\n",
       "    <tr style=\"text-align: right;\">\n",
       "      <th></th>\n",
       "      <th>Bobby Flay Win Percentage</th>\n",
       "    </tr>\n",
       "    <tr>\n",
       "      <th>season</th>\n",
       "      <th></th>\n",
       "    </tr>\n",
       "  </thead>\n",
       "  <tbody>\n",
       "    <tr>\n",
       "      <th>1</th>\n",
       "      <td>0.777778</td>\n",
       "    </tr>\n",
       "    <tr>\n",
       "      <th>3</th>\n",
       "      <td>0.769231</td>\n",
       "    </tr>\n",
       "    <tr>\n",
       "      <th>15</th>\n",
       "      <td>0.769231</td>\n",
       "    </tr>\n",
       "    <tr>\n",
       "      <th>18</th>\n",
       "      <td>0.714286</td>\n",
       "    </tr>\n",
       "    <tr>\n",
       "      <th>2</th>\n",
       "      <td>0.692308</td>\n",
       "    </tr>\n",
       "  </tbody>\n",
       "</table>\n",
       "</div>"
      ],
      "text/plain": [
       "        Bobby Flay Win Percentage\n",
       "season                           \n",
       "1                        0.777778\n",
       "3                        0.769231\n",
       "15                       0.769231\n",
       "18                       0.714286\n",
       "2                        0.692308"
      ]
     },
     "execution_count": 9,
     "metadata": {},
     "output_type": "execute_result"
    }
   ],
   "source": [
    "pd.DataFrame(seasons_win_prop.sort_values(ascending = False)[0:5]).rename(columns = {0: 'Bobby Flay Win Percentage'})"
   ]
  },
  {
   "cell_type": "markdown",
   "id": "6942b17d-6160-4b17-b048-9a8155bfa89b",
   "metadata": {},
   "source": [
    "When looking at the 5 lowest win proportions and the 5 highest, it seems that it may have been harder to Beat Bobby Flay in earlier seasons, as shown by the first three seasons having 3 of the 5 highest win percentages in show history. "
   ]
  },
  {
   "cell_type": "markdown",
   "id": "9a3a3da8-dd51-4f54-9cc0-0cb050234fd3",
   "metadata": {},
   "source": [
    "### Episode Trends"
   ]
  },
  {
   "cell_type": "code",
   "execution_count": 10,
   "id": "b22bef54-0183-42ce-818b-b8090a6484e0",
   "metadata": {},
   "outputs": [],
   "source": [
    "episodes = data.groupby('num_within_season').title.count()\n",
    "episodes_flay = data.groupby('num_within_season').Win.sum()\n",
    "episodes_win = pd.DataFrame(episodes_flay / episodes)\n",
    "episodes_win.columns = ['Win Percentage']"
   ]
  },
  {
   "cell_type": "code",
   "execution_count": 11,
   "id": "a228e9e7-3b6a-4977-b87b-369d8df2118f",
   "metadata": {},
   "outputs": [
    {
     "data": {
      "text/html": [
       "<div>\n",
       "<style scoped>\n",
       "    .dataframe tbody tr th:only-of-type {\n",
       "        vertical-align: middle;\n",
       "    }\n",
       "\n",
       "    .dataframe tbody tr th {\n",
       "        vertical-align: top;\n",
       "    }\n",
       "\n",
       "    .dataframe thead th {\n",
       "        text-align: right;\n",
       "    }\n",
       "</style>\n",
       "<table border=\"1\" class=\"dataframe\">\n",
       "  <thead>\n",
       "    <tr style=\"text-align: right;\">\n",
       "      <th></th>\n",
       "      <th>Win Percentage</th>\n",
       "    </tr>\n",
       "    <tr>\n",
       "      <th>num_within_season</th>\n",
       "      <th></th>\n",
       "    </tr>\n",
       "  </thead>\n",
       "  <tbody>\n",
       "    <tr>\n",
       "      <th>1</th>\n",
       "      <td>0.480000</td>\n",
       "    </tr>\n",
       "    <tr>\n",
       "      <th>2</th>\n",
       "      <td>0.560000</td>\n",
       "    </tr>\n",
       "    <tr>\n",
       "      <th>3</th>\n",
       "      <td>0.680000</td>\n",
       "    </tr>\n",
       "    <tr>\n",
       "      <th>4</th>\n",
       "      <td>0.625000</td>\n",
       "    </tr>\n",
       "    <tr>\n",
       "      <th>5</th>\n",
       "      <td>0.576923</td>\n",
       "    </tr>\n",
       "    <tr>\n",
       "      <th>6</th>\n",
       "      <td>0.560000</td>\n",
       "    </tr>\n",
       "    <tr>\n",
       "      <th>7</th>\n",
       "      <td>0.840000</td>\n",
       "    </tr>\n",
       "    <tr>\n",
       "      <th>8</th>\n",
       "      <td>0.625000</td>\n",
       "    </tr>\n",
       "    <tr>\n",
       "      <th>9</th>\n",
       "      <td>0.625000</td>\n",
       "    </tr>\n",
       "    <tr>\n",
       "      <th>10</th>\n",
       "      <td>0.523810</td>\n",
       "    </tr>\n",
       "    <tr>\n",
       "      <th>11</th>\n",
       "      <td>0.619048</td>\n",
       "    </tr>\n",
       "    <tr>\n",
       "      <th>12</th>\n",
       "      <td>0.619048</td>\n",
       "    </tr>\n",
       "    <tr>\n",
       "      <th>13</th>\n",
       "      <td>0.894737</td>\n",
       "    </tr>\n",
       "    <tr>\n",
       "      <th>14</th>\n",
       "      <td>0.000000</td>\n",
       "    </tr>\n",
       "  </tbody>\n",
       "</table>\n",
       "</div>"
      ],
      "text/plain": [
       "                   Win Percentage\n",
       "num_within_season                \n",
       "1                        0.480000\n",
       "2                        0.560000\n",
       "3                        0.680000\n",
       "4                        0.625000\n",
       "5                        0.576923\n",
       "6                        0.560000\n",
       "7                        0.840000\n",
       "8                        0.625000\n",
       "9                        0.625000\n",
       "10                       0.523810\n",
       "11                       0.619048\n",
       "12                       0.619048\n",
       "13                       0.894737\n",
       "14                       0.000000"
      ]
     },
     "execution_count": 11,
     "metadata": {},
     "output_type": "execute_result"
    }
   ],
   "source": [
    "episodes_win"
   ]
  },
  {
   "cell_type": "markdown",
   "id": "e57300fb-0085-4049-acc1-9a94c7b1361e",
   "metadata": {},
   "source": [
    "These are the win percentages for Bobby Flay across each episode. However, not every season has the same amount of episodes, so we will need to do deeper analysis. The biggest takeaway from this initial chart is that Bobby Flay only wins 48% of the time on the season opener, a significant drop from the ~63% of episodes he usually wins."
   ]
  },
  {
   "cell_type": "code",
   "execution_count": 12,
   "id": "3575bde3-ce74-45ce-8c74-aef0dda79bac",
   "metadata": {},
   "outputs": [],
   "source": [
    "last_episode = data.groupby('season').num_within_season.max()\n",
    "last_episode_win = 0\n",
    "for i in range(1,26):\n",
    "    last = data[(data.season == i) & (data.num_within_season == last_episode[i])]\n",
    "    last_episode_win += last.iloc[0]['Win']"
   ]
  },
  {
   "cell_type": "code",
   "execution_count": 13,
   "id": "425cc67d-0a31-44dc-8bf3-d69586d2dd7f",
   "metadata": {},
   "outputs": [
    {
     "data": {
      "text/plain": [
       "0.88"
      ]
     },
     "execution_count": 13,
     "metadata": {},
     "output_type": "execute_result"
    }
   ],
   "source": [
    "last_episode_win / 25"
   ]
  },
  {
   "cell_type": "markdown",
   "id": "f1f6d62b-350a-409f-8200-c9e325e021a3",
   "metadata": {},
   "source": [
    "This is a much more eye-opening fact. Bobby Flay wins on 88% of his season finales, meaning that for a higher chance to beat Bobby Flay, competing in the season finale is not a good idea.\n",
    "\n",
    "Here is a summarizing chart of this section:"
   ]
  },
  {
   "cell_type": "code",
   "execution_count": 14,
   "id": "08e4a133-ac2d-4544-bdc5-b65c47d1dd1f",
   "metadata": {},
   "outputs": [
    {
     "data": {
      "image/png": "[encoded data removed]",
      "text/plain": [
       "<Figure size 864x288 with 3 Axes>"
      ]
     },
     "metadata": {},
     "output_type": "display_data"
    }
   ],
   "source": [
    "overall_win = sum(data.Win) / len(data)\n",
    "season_opener = episodes_win.loc[1][0]\n",
    "season_finale = last_episode_win / 25\n",
    "\n",
    "fig, ax = plt.subplots(1, 3, figsize = (12,4))\n",
    "\n",
    "#plt.subplot(121)\n",
    "ax[0].pie([overall_win, 1-overall_win], colors = ['firebrick', 'white'], \n",
    "        labels = ['Bobby Flay victories', 'Contestant victories'], autopct = '%1.2f%%', \n",
    "        labeldistance = None, wedgeprops = {'linewidth': 1, 'edgecolor' : 'firebrick'})\n",
    "ax[0].set_title('All Episodes')\n",
    "ax[0].legend(loc = 'lower center')\n",
    "\n",
    "#plt.subplot(122)\n",
    "ax[1].pie([season_opener, 1-season_opener], colors = ['firebrick', 'white'], \n",
    "        labels = ['Bobby Flay victories', 'Contestant victories'], autopct = '%1.2f%%', \n",
    "        labeldistance = None, wedgeprops = {'linewidth': 1, 'edgecolor' : 'firebrick'})\n",
    "ax[1].set_title('Season Openers')\n",
    "ax[1].legend(loc = 'lower center')\n",
    "\n",
    "#plt.subplot(123)\n",
    "ax[2].pie([season_finale, 1-season_finale], colors = ['firebrick', 'white'], \n",
    "        labels = ['Bobby Flay victories', 'Contestant victories'], autopct = '%1.2f%%', \n",
    "        labeldistance = None, wedgeprops = {'linewidth': 1, 'edgecolor' : 'firebrick'})\n",
    "ax[2].set_title('Season Finales')\n",
    "ax[2].legend(loc = 'lower center')\n",
    "\n",
    "plt.show()"
   ]
  },
  {
   "cell_type": "markdown",
   "id": "6668497e-2ed1-4187-b1f2-a07626c2e553",
   "metadata": {},
   "source": [
    "## Dishes Chosen\n",
    "\n",
    "We start looking for trends in the second round. \n",
    "\n",
    "In the first round, two contestants battle, using an ingredient of the show's choice. This ingredient does not directly affect whether or not Bobby Flay wins, and each episode features a different ingredient. Thus, we will not look into the starting ingredient. Rather, the dish chosen is more important."
   ]
  },
  {
   "cell_type": "code",
   "execution_count": 15,
   "id": "405ac47e-cc2c-4afd-b26d-4aa1100dea53",
   "metadata": {},
   "outputs": [
    {
     "data": {
      "text/plain": [
       "303"
      ]
     },
     "execution_count": 15,
     "metadata": {},
     "output_type": "execute_result"
    }
   ],
   "source": [
    "data.dish.nunique()"
   ]
  },
  {
   "cell_type": "markdown",
   "id": "61e9b827-3440-48db-905e-82722331b039",
   "metadata": {},
   "source": [
    "### Repeated Dishes\n",
    "\n",
    "There are 303 unique dishes chosen out of the 306 episodes in our dataset. Though it is an incredibly small sample size, we will still explore the 3 repeated dishes."
   ]
  },
  {
   "cell_type": "code",
   "execution_count": 16,
   "id": "0b6311fe-d665-4de4-b10c-53adf48a64c4",
   "metadata": {},
   "outputs": [
    {
     "data": {
      "text/html": [
       "<div>\n",
       "<style scoped>\n",
       "    .dataframe tbody tr th:only-of-type {\n",
       "        vertical-align: middle;\n",
       "    }\n",
       "\n",
       "    .dataframe tbody tr th {\n",
       "        vertical-align: top;\n",
       "    }\n",
       "\n",
       "    .dataframe thead th {\n",
       "        text-align: right;\n",
       "    }\n",
       "</style>\n",
       "<table border=\"1\" class=\"dataframe\">\n",
       "  <thead>\n",
       "    <tr style=\"text-align: right;\">\n",
       "      <th></th>\n",
       "      <th>dish</th>\n",
       "    </tr>\n",
       "    <tr>\n",
       "      <th>dish</th>\n",
       "      <th></th>\n",
       "    </tr>\n",
       "  </thead>\n",
       "  <tbody>\n",
       "    <tr>\n",
       "      <th>Shrimp and Grits</th>\n",
       "      <td>2</td>\n",
       "    </tr>\n",
       "    <tr>\n",
       "      <th>burger</th>\n",
       "      <td>2</td>\n",
       "    </tr>\n",
       "    <tr>\n",
       "      <th>Chicken Cordon Bleu</th>\n",
       "      <td>2</td>\n",
       "    </tr>\n",
       "  </tbody>\n",
       "</table>\n",
       "</div>"
      ],
      "text/plain": [
       "                     dish\n",
       "dish                     \n",
       "Shrimp and Grits        2\n",
       "burger                  2\n",
       "Chicken Cordon Bleu     2"
      ]
     },
     "execution_count": 16,
     "metadata": {},
     "output_type": "execute_result"
    }
   ],
   "source": [
    "pd.DataFrame(data.groupby('dish').dish.count().sort_values(ascending = False)[0:3])"
   ]
  },
  {
   "cell_type": "code",
   "execution_count": 17,
   "id": "9f0be154-03e5-4b78-81f8-f29bf890fe80",
   "metadata": {},
   "outputs": [
    {
     "data": {
      "text/html": [
       "<div>\n",
       "<style scoped>\n",
       "    .dataframe tbody tr th:only-of-type {\n",
       "        vertical-align: middle;\n",
       "    }\n",
       "\n",
       "    .dataframe tbody tr th {\n",
       "        vertical-align: top;\n",
       "    }\n",
       "\n",
       "    .dataframe thead th {\n",
       "        text-align: right;\n",
       "    }\n",
       "</style>\n",
       "<table border=\"1\" class=\"dataframe\">\n",
       "  <thead>\n",
       "    <tr style=\"text-align: right;\">\n",
       "      <th></th>\n",
       "      <th>num_overall</th>\n",
       "      <th>dish</th>\n",
       "      <th>winner</th>\n",
       "    </tr>\n",
       "  </thead>\n",
       "  <tbody>\n",
       "    <tr>\n",
       "      <th>5</th>\n",
       "      <td>6</td>\n",
       "      <td>burger</td>\n",
       "      <td>Bobby Flay</td>\n",
       "    </tr>\n",
       "    <tr>\n",
       "      <th>52</th>\n",
       "      <td>53</td>\n",
       "      <td>burger</td>\n",
       "      <td>Bobby Flay</td>\n",
       "    </tr>\n",
       "    <tr>\n",
       "      <th>147</th>\n",
       "      <td>148</td>\n",
       "      <td>Shrimp and Grits</td>\n",
       "      <td>Bobby Flay</td>\n",
       "    </tr>\n",
       "    <tr>\n",
       "      <th>159</th>\n",
       "      <td>160</td>\n",
       "      <td>Chicken Cordon Bleu</td>\n",
       "      <td>Lionel Haeberle</td>\n",
       "    </tr>\n",
       "    <tr>\n",
       "      <th>260</th>\n",
       "      <td>261</td>\n",
       "      <td>Shrimp and Grits</td>\n",
       "      <td>Bobby Flay</td>\n",
       "    </tr>\n",
       "    <tr>\n",
       "      <th>303</th>\n",
       "      <td>304</td>\n",
       "      <td>Chicken Cordon Bleu</td>\n",
       "      <td>Bobby Flay</td>\n",
       "    </tr>\n",
       "  </tbody>\n",
       "</table>\n",
       "</div>"
      ],
      "text/plain": [
       "     num_overall                 dish           winner\n",
       "5              6               burger       Bobby Flay\n",
       "52            53               burger       Bobby Flay\n",
       "147          148     Shrimp and Grits       Bobby Flay\n",
       "159          160  Chicken Cordon Bleu  Lionel Haeberle\n",
       "260          261     Shrimp and Grits       Bobby Flay\n",
       "303          304  Chicken Cordon Bleu       Bobby Flay"
      ]
     },
     "execution_count": 17,
     "metadata": {},
     "output_type": "execute_result"
    }
   ],
   "source": [
    "data[data.dish.isin(['Shrimp and Grits', 'burger', 'Chicken Cordon Bleu'])][['num_overall', 'dish', 'winner']]"
   ]
  },
  {
   "cell_type": "markdown",
   "id": "e9397451-db27-4d65-a5aa-98d95c77e479",
   "metadata": {},
   "source": [
    "There appears to be no significant trend regarding repeated dishes. Bobby Flay won both battles with burgers, split the matches of Chicken Cordon Bleu, and again won both of shrimp and grits.\n",
    "\n",
    "### Cuisines of the Dishes\n",
    "\n",
    "Perhaps, more interesting is the cuisines of the chosen dishes. Here is the distribution of cuisines in this show (also seen in Cuisines part of this article)."
   ]
  },
  {
   "cell_type": "code",
   "execution_count": 51,
   "id": "6c918df7-aa9c-4364-b098-8905ef2ebaae",
   "metadata": {},
   "outputs": [
    {
     "data": {
      "image/png": "[encoded data removed]",
      "text/plain": [
       "<Figure size 432x288 with 1 Axes>"
      ]
     },
     "metadata": {
      "needs_background": "light"
     },
     "output_type": "display_data"
    }
   ],
   "source": [
    "cuisine_count = data.groupby('cuisine_type').num_within_season.count()\n",
    "colors = ['midnightblue', 'plum', 'green', 'yellow', 'red', 'cornflowerblue', 'brown', \n",
    "          'orange', 'limegreen', 'maroon', 'gold', 'navy', 'peru', 'gray']\n",
    "plt.bar(cuisine_count.index, cuisine_count, color = colors)\n",
    "plt.xlabel('Cuisine')\n",
    "plt.xticks(rotation = 45, ha = 'right')\n",
    "plt.ylabel('Number of Dishes')\n",
    "plt.title('Distribution of Cuisines in Beat Bobby Flay')\n",
    "plt.show()"
   ]
  },
  {
   "cell_type": "markdown",
   "id": "9cc6e0e4-7c91-45f4-9608-a1e26bcebd52",
   "metadata": {},
   "source": [
    "American dishes are definitely the most common, but there is a solid amount of representation amongst other cuisines and cultures. Let's see how Bobby Flay fares cooking different cuisines."
   ]
  },
  {
   "cell_type": "code",
   "execution_count": 19,
   "id": "8c31be27-f20a-491a-93d4-44e65db90ab1",
   "metadata": {},
   "outputs": [
    {
     "data": {
      "image/png": "[encoded data removed]",
      "text/plain": [
       "<Figure size 432x288 with 1 Axes>"
      ]
     },
     "metadata": {
      "needs_background": "light"
     },
     "output_type": "display_data"
    }
   ],
   "source": [
    "cuisine_win = data.groupby('cuisine_type').Win.sum()\n",
    "cuisine_prop = cuisine_win / cuisine_count\n",
    "plt.bar(cuisine_count.index, cuisine_prop, color = colors)\n",
    "plt.xlabel('Cuisine')\n",
    "plt.xticks(rotation = 45, ha = 'right')\n",
    "plt.ylabel('Bobby Flay Win Proportion')\n",
    "plt.title('Bobby Flay Across the Cuisines')\n",
    "plt.show()"
   ]
  },
  {
   "cell_type": "markdown",
   "id": "cd379ca2-31eb-4bf1-a567-93729b192f92",
   "metadata": {},
   "source": [
    "Right away, we see that the three cuisines that Bobby Flay struggles the most against are Chinese, Eastern European, and Indian. On closer examining, his 33% win rate against Eastern European dishes is not significant, since he won 2 out of only 6 matchups. In addition, his low win rate with Indian dishes could also be argued as insignificant (5 wins out of 12 episodes). However, Chinese dishes have a large enough sample size, with 11 out of 20 contestants winning with their Chinese dish. \n",
    "\n",
    "It is good to see that with American dishes (which make up a large percentage of all dishes), Bobby Flay's win percentage remains similar to his overall win percentage across all episodes.\n",
    "\n",
    "It is also a positive sign that there is no cuisine that Bobby Flay entirely dominates. There are no cuisines in which he wins above 75% of the time, meaning that a contestant will always have a chance despite which cuisine they pick.\n",
    "\n",
    "### Dessert vs. Non-Dessert\n",
    "\n",
    "Another interesting factor we can look at is whether or not a dish was a dessert."
   ]
  },
  {
   "cell_type": "code",
   "execution_count": 20,
   "id": "f7e523fb-d21c-4c4a-a0c9-745fac903cef",
   "metadata": {},
   "outputs": [],
   "source": [
    "data['dessert'] = [0, 0, 0, 0, 0, 0, 0, 0, 0, 0,\n",
    "              0, 0, 0, 0, 0, 0, 0, 0, 1, 0,\n",
    "              0, 0, 0, 0, 0, 0, 0, 0, 0, 0,\n",
    "              0, 0, 0, 0, 0, 0, 0, 0, 0, 0,\n",
    "              0, 0, 0, 0, 0, 0, 0, 0, 0, 0,\n",
    "              0, 0, 0, 0, 0, 0, 0, 0, 0, 0,\n",
    "              0, 0, 0, 0, 0, 0, 0, 0, 0, 1,\n",
    "              0, 0, 0, 0, 0, 0, 0, 1, 0, 0,\n",
    "              0, 0, 0, 0, 1, 0, 0, 0, 0, 0,\n",
    "              0, 0, 0, 0, 1, 0, 0, 0, 0, 0,\n",
    "              0, 0, 0, 0, 0, 0, 0, 0, 0, 1,\n",
    "              0, 0, 0, 0, 0, 0, 0, 0, 0, 0,\n",
    "              0, 0, 0, 0, 0, 0, 0, 0, 0, 1,\n",
    "              0, 0, 0, 0, 0, 0, 0, 0, 0, 0,\n",
    "              0, 0, 0, 0, 1, 0, 0, 0, 0, 0,\n",
    "              0, 0, 0, 0, 0, 0, 0, 0, 0, 0,\n",
    "              0, 0, 0, 0, 0, 0, 0, 0, 1, 0,\n",
    "              0, 1, 0, 0, 0, 1, 0, 0, 0, 0,\n",
    "              0, 0, 0, 0, 0, 1, 0, 1, 0, 0,\n",
    "              0, 0, 0, 0, 0, 0, 0, 0, 0, 1,\n",
    "              0, 0, 0, 0, 0, 0, 0, 0, 0, 0,\n",
    "              0, 0, 0, 0, 0, 1, 0, 0, 0, 0,\n",
    "              0, 0, 1, 0, 0, 0, 0, 0, 0, 1,\n",
    "              0, 0, 0, 0, 0, 0, 0, 0, 0, 0,\n",
    "              0, 0, 1, 0, 0, 0, 0, 0, 0, 0,\n",
    "              0, 0, 0, 0, 0, 0, 0, 0, 0, 0,\n",
    "              0, 0, 0, 0, 0, 0, 0, 0, 0, 0,\n",
    "              0, 0, 0, 0, 0, 0, 0, 0, 0, 0,\n",
    "              1, 0, 0, 0, 0, 0, 0, 0, 0, 0,\n",
    "              0, 0, 0, 0, 0, 0, 1, 0, 0, 0,\n",
    "              0, 0, 0, 0, 0, 0]"
   ]
  },
  {
   "cell_type": "code",
   "execution_count": 21,
   "id": "41f09b03-83f1-4c5b-8b11-9bdd4957ea78",
   "metadata": {},
   "outputs": [
    {
     "data": {
      "text/plain": [
       "18          French toast\n",
       "69    Dutch baby pancake\n",
       "77          chicken mole\n",
       "84           cream puffs\n",
       "Name: dish, dtype: object"
      ]
     },
     "execution_count": 21,
     "metadata": {},
     "output_type": "execute_result"
    }
   ],
   "source": [
    "dessert = data[data.dessert == 1]\n",
    "dessert.dish[0:4]"
   ]
  },
  {
   "cell_type": "code",
   "execution_count": 22,
   "id": "d2e467dd-3f69-45ec-9eed-9c7ce4039cd5",
   "metadata": {},
   "outputs": [
    {
     "data": {
      "text/plain": [
       "20"
      ]
     },
     "execution_count": 22,
     "metadata": {},
     "output_type": "execute_result"
    }
   ],
   "source": [
    "len(dessert)"
   ]
  },
  {
   "cell_type": "markdown",
   "id": "fa59217f-eb7f-4612-8a5a-7426b4680e4c",
   "metadata": {},
   "source": [
    "There are only 20 dessert dishes out of the 306 episodes. This is probably because desserts are difficult to make in a timed setting. Therefore, any results from this analysis will most likely not be statistically signficant, but we can still explore."
   ]
  },
  {
   "cell_type": "code",
   "execution_count": 23,
   "id": "aaed1324-3f77-47ee-85ed-880930f9946d",
   "metadata": {},
   "outputs": [
    {
     "data": {
      "text/plain": [
       "0.55"
      ]
     },
     "execution_count": 23,
     "metadata": {},
     "output_type": "execute_result"
    }
   ],
   "source": [
    "dessert.Win.sum() / len(dessert)"
   ]
  },
  {
   "cell_type": "markdown",
   "id": "442788ce-ced5-44a8-a3a1-8a285a10c93c",
   "metadata": {},
   "source": [
    "Bobby Flay only wins 55% of dessert rounds, as opposed to the usual 63% he wins across all episodes.\n",
    "\n",
    "## Judges"
   ]
  },
  {
   "cell_type": "code",
   "execution_count": 24,
   "id": "e114d170-b5b7-4887-af41-0c5b3eea916f",
   "metadata": {},
   "outputs": [],
   "source": [
    "judges = data[['judge1', 'judge2', 'judge3']]\n",
    "unique_judges1 = judges['judge1'].unique()\n",
    "unique_judges2 = judges['judge2'].unique()\n",
    "unique_judges3 = judges['judge3'].unique()\n",
    "total_judges = np.concatenate((unique_judges1, unique_judges2, unique_judges3))\n",
    "unique_judges = np.unique(total_judges)"
   ]
  },
  {
   "cell_type": "code",
   "execution_count": 25,
   "id": "27cb07da-3067-4d4e-8442-50b27f787ce9",
   "metadata": {},
   "outputs": [
    {
     "data": {
      "text/plain": [
       "336"
      ]
     },
     "execution_count": 25,
     "metadata": {},
     "output_type": "execute_result"
    }
   ],
   "source": [
    "len(unique_judges)"
   ]
  },
  {
   "cell_type": "markdown",
   "id": "5946095e-c701-474d-b47f-6d29064f07b6",
   "metadata": {},
   "source": [
    "Throughout our 306 episodes, there are 336 unique people who have acted as judges. Now, we will compute how many episodes each person has appeared on as a judge."
   ]
  },
  {
   "cell_type": "code",
   "execution_count": 26,
   "id": "ffa63585-ca19-47c0-ba22-1035a195619e",
   "metadata": {},
   "outputs": [],
   "source": [
    "d = {}\n",
    "for i in unique_judges:\n",
    "    d[i] = 0\n",
    "    for row in range(len(judges)):\n",
    "        for column in range(3):\n",
    "            if judges.iloc[row, column] == i:\n",
    "                d[i] += 1"
   ]
  },
  {
   "cell_type": "code",
   "execution_count": 27,
   "id": "c153f7e2-ea51-4349-994c-ea149332afd3",
   "metadata": {},
   "outputs": [],
   "source": [
    "judges_dist = pd.DataFrame(d.items(), columns = ['Judge', 'Number of Appearances'])"
   ]
  },
  {
   "cell_type": "code",
   "execution_count": 28,
   "id": "d39321d8-7ca0-46a8-8821-41e9444681bc",
   "metadata": {},
   "outputs": [
    {
     "data": {
      "text/html": [
       "<div>\n",
       "<style scoped>\n",
       "    .dataframe tbody tr th:only-of-type {\n",
       "        vertical-align: middle;\n",
       "    }\n",
       "\n",
       "    .dataframe tbody tr th {\n",
       "        vertical-align: top;\n",
       "    }\n",
       "\n",
       "    .dataframe thead th {\n",
       "        text-align: right;\n",
       "    }\n",
       "</style>\n",
       "<table border=\"1\" class=\"dataframe\">\n",
       "  <thead>\n",
       "    <tr style=\"text-align: right;\">\n",
       "      <th></th>\n",
       "      <th>Judge</th>\n",
       "      <th>Number of Appearances</th>\n",
       "    </tr>\n",
       "  </thead>\n",
       "  <tbody>\n",
       "    <tr>\n",
       "      <th>237</th>\n",
       "      <td>Michael Psilakis</td>\n",
       "      <td>19</td>\n",
       "    </tr>\n",
       "    <tr>\n",
       "      <th>113</th>\n",
       "      <td>Frank Prisinzano</td>\n",
       "      <td>17</td>\n",
       "    </tr>\n",
       "    <tr>\n",
       "      <th>202</th>\n",
       "      <td>Leah Cohen</td>\n",
       "      <td>16</td>\n",
       "    </tr>\n",
       "    <tr>\n",
       "      <th>137</th>\n",
       "      <td>Ivy Stark</td>\n",
       "      <td>15</td>\n",
       "    </tr>\n",
       "    <tr>\n",
       "      <th>212</th>\n",
       "      <td>Madison Cowan</td>\n",
       "      <td>15</td>\n",
       "    </tr>\n",
       "  </tbody>\n",
       "</table>\n",
       "</div>"
      ],
      "text/plain": [
       "                Judge  Number of Appearances\n",
       "237  Michael Psilakis                     19\n",
       "113  Frank Prisinzano                     17\n",
       "202        Leah Cohen                     16\n",
       "137         Ivy Stark                     15\n",
       "212     Madison Cowan                     15"
      ]
     },
     "execution_count": 28,
     "metadata": {},
     "output_type": "execute_result"
    }
   ],
   "source": [
    "judges_dist.sort_values('Number of Appearances', ascending = False)[0:5]"
   ]
  },
  {
   "cell_type": "markdown",
   "id": "6aa13942-396a-4396-90ba-37ad46ab390e",
   "metadata": {},
   "source": [
    "Here are the judges that have appeared the most amount of times. We see that the amount of appearances is not that high, as the show tries to limit repeitiveness. Now, I will add a column of how many wins Bobby Flay has when each person is the judge."
   ]
  },
  {
   "cell_type": "code",
   "execution_count": 29,
   "id": "f9ba2e22-c75b-48f0-aa9d-5f8cc67c7234",
   "metadata": {},
   "outputs": [],
   "source": [
    "judges_dist['Bobby Flay victories'] = np.zeros((336,1))\n",
    "for row1 in range(len(judges_dist)):\n",
    "    for row2 in range(len(data)):\n",
    "        if data.loc[row2, 'judge1'] == judges_dist.loc[row1, 'Judge'] or data.loc[row2, 'judge2'] == judges_dist.loc[row1, 'Judge'] or data.loc[row2, 'judge3'] == judges_dist.loc[row1, 'Judge']:\n",
    "            judges_dist.loc[row1, 'Bobby Flay victories'] += data.loc[row2, 'Win']"
   ]
  },
  {
   "cell_type": "code",
   "execution_count": 30,
   "id": "3856ca8a-f1b3-49a2-8297-27ca653acaeb",
   "metadata": {},
   "outputs": [],
   "source": [
    "judges_dist['Bobby Flay Win PCT'] = judges_dist['Bobby Flay victories'] / judges_dist['Number of Appearances']"
   ]
  },
  {
   "cell_type": "code",
   "execution_count": 31,
   "id": "6584d72c-b073-42e7-a752-d122543c10f9",
   "metadata": {},
   "outputs": [
    {
     "data": {
      "text/html": [
       "<div>\n",
       "<style scoped>\n",
       "    .dataframe tbody tr th:only-of-type {\n",
       "        vertical-align: middle;\n",
       "    }\n",
       "\n",
       "    .dataframe tbody tr th {\n",
       "        vertical-align: top;\n",
       "    }\n",
       "\n",
       "    .dataframe thead th {\n",
       "        text-align: right;\n",
       "    }\n",
       "</style>\n",
       "<table border=\"1\" class=\"dataframe\">\n",
       "  <thead>\n",
       "    <tr style=\"text-align: right;\">\n",
       "      <th></th>\n",
       "      <th>Judge</th>\n",
       "      <th>Number of Appearances</th>\n",
       "      <th>Bobby Flay victories</th>\n",
       "      <th>Bobby Flay Win PCT</th>\n",
       "    </tr>\n",
       "  </thead>\n",
       "  <tbody>\n",
       "    <tr>\n",
       "      <th>0</th>\n",
       "      <td>Abigail Hitchcock</td>\n",
       "      <td>3</td>\n",
       "      <td>2.0</td>\n",
       "      <td>0.666667</td>\n",
       "    </tr>\n",
       "    <tr>\n",
       "      <th>1</th>\n",
       "      <td>Adam Greenberg</td>\n",
       "      <td>1</td>\n",
       "      <td>1.0</td>\n",
       "      <td>1.000000</td>\n",
       "    </tr>\n",
       "    <tr>\n",
       "      <th>2</th>\n",
       "      <td>Adam Sappington</td>\n",
       "      <td>1</td>\n",
       "      <td>1.0</td>\n",
       "      <td>1.000000</td>\n",
       "    </tr>\n",
       "    <tr>\n",
       "      <th>3</th>\n",
       "      <td>Adrienne Cheatham</td>\n",
       "      <td>4</td>\n",
       "      <td>2.0</td>\n",
       "      <td>0.500000</td>\n",
       "    </tr>\n",
       "    <tr>\n",
       "      <th>4</th>\n",
       "      <td>Akhtar Nawab</td>\n",
       "      <td>4</td>\n",
       "      <td>2.0</td>\n",
       "      <td>0.500000</td>\n",
       "    </tr>\n",
       "  </tbody>\n",
       "</table>\n",
       "</div>"
      ],
      "text/plain": [
       "               Judge  Number of Appearances  Bobby Flay victories  \\\n",
       "0  Abigail Hitchcock                      3                   2.0   \n",
       "1     Adam Greenberg                      1                   1.0   \n",
       "2    Adam Sappington                      1                   1.0   \n",
       "3  Adrienne Cheatham                      4                   2.0   \n",
       "4       Akhtar Nawab                      4                   2.0   \n",
       "\n",
       "   Bobby Flay Win PCT  \n",
       "0            0.666667  \n",
       "1            1.000000  \n",
       "2            1.000000  \n",
       "3            0.500000  \n",
       "4            0.500000  "
      ]
     },
     "execution_count": 31,
     "metadata": {},
     "output_type": "execute_result"
    }
   ],
   "source": [
    "judges_dist.head()"
   ]
  },
  {
   "cell_type": "markdown",
   "id": "baefd6cc-1337-4ca5-af0b-40ee939a44c5",
   "metadata": {},
   "source": [
    "Now, we have a table with every unique judge that has ever judged an episode, the amount of appearances each has had, the amount of times Bobby Flay won when he/she was the judge, and Bobby Flay's win percentage in these episodes. We first explore the distribution of this new dataset."
   ]
  },
  {
   "cell_type": "code",
   "execution_count": 32,
   "id": "fcca70f1-677e-4637-8808-723575359fd9",
   "metadata": {},
   "outputs": [
    {
     "data": {
      "image/png": "[encoded data removed]",
      "text/plain": [
       "<Figure size 864x360 with 2 Axes>"
      ]
     },
     "metadata": {
      "needs_background": "light"
     },
     "output_type": "display_data"
    }
   ],
   "source": [
    "plt.figure(figsize = (12,5))\n",
    "\n",
    "plt.subplot(1,2,1)\n",
    "plt.hist(judges_dist['Number of Appearances'], bins = 19, color = 'firebrick', edgecolor = 'black', linewidth = 1)\n",
    "plt.xlabel('Number of Appearances for Judges')\n",
    "plt.ylabel('Count')\n",
    "plt.title('Distribution of the Number of Appearances for Judges')\n",
    "plt.xticks(np.arange(20))\n",
    "\n",
    "plt.subplot(1,2,2)\n",
    "plt.hist(judges_dist['Bobby Flay Win PCT'], color = 'firebrick', edgecolor = 'black')\n",
    "plt.xlabel('Bobby Flay Win Percentage With Judge')\n",
    "plt.ylabel('Count')\n",
    "plt.title('Distribution of Bobby Flay Win PCT for Judges')\n",
    "plt.show()"
   ]
  },
  {
   "cell_type": "markdown",
   "id": "f7c87e85-3133-4281-8bee-559e81b01a08",
   "metadata": {},
   "source": [
    "We see that majority of the judges only judged one or two times. Obviously, looking at Bobby Flay's win percentage with these rare judges would be time-consuming and insignificant. For this project, we will look only at judges who have appeared at least 10 times."
   ]
  },
  {
   "cell_type": "code",
   "execution_count": 33,
   "id": "cf18b43f-c14e-4da9-aa19-6538e15acc9c",
   "metadata": {},
   "outputs": [
    {
     "data": {
      "text/plain": [
       "14"
      ]
     },
     "execution_count": 33,
     "metadata": {},
     "output_type": "execute_result"
    }
   ],
   "source": [
    "common_judges = judges_dist[judges_dist['Number of Appearances'] >= 10]\n",
    "len(common_judges)"
   ]
  },
  {
   "cell_type": "markdown",
   "id": "cf7a8658-f270-4ef8-b685-74e50eaffdcd",
   "metadata": {},
   "source": [
    "There are 14 such judges."
   ]
  },
  {
   "cell_type": "code",
   "execution_count": 34,
   "id": "5d9e87e5-2604-45fa-9b23-d3cab7f64458",
   "metadata": {},
   "outputs": [
    {
     "data": {
      "image/png": "[encoded data removed]",
      "text/plain": [
       "<Figure size 432x288 with 1 Axes>"
      ]
     },
     "metadata": {
      "needs_background": "light"
     },
     "output_type": "display_data"
    }
   ],
   "source": [
    "plt.bar(common_judges['Judge'], common_judges['Bobby Flay Win PCT'], color = 'firebrick')\n",
    "plt.xlabel('Judge')\n",
    "plt.ylabel('Bobby Flay Win PCT in Episodes with Judge')\n",
    "plt.title('Bobby Flay vs. Different Judges')\n",
    "plt.xticks(rotation = 45, ha = 'right')\n",
    "plt.show()"
   ]
  },
  {
   "cell_type": "markdown",
   "id": "d41718d4-eb3e-468d-8359-69476514f637",
   "metadata": {},
   "source": [
    "Bobby Flay seems to struggle when Tricia Williams or Paulette Goto are his judges. He has won only 5 of 13 episodes (38%) with Tricia Williams, and only 5 of 11 episodes (45%) with Paulette Goto.\n",
    "\n",
    "Meanwhile, Flay does very well when Lourdes Castro is a judge, winning 12 of 14 competitions (86%).\n",
    "\n",
    "### Judges' First Episode\n",
    "\n",
    "With this data on judges, we want to examine another factor: whether it was the judge's first episode. By adding two new columns, we will have every judge's first episode and whether or not Bobby Flay won. Perhaps, judges tend to be meaner or nicer to Bobby on their first appearance in the show."
   ]
  },
  {
   "cell_type": "code",
   "execution_count": 35,
   "id": "4aabf4f7-25de-45a3-9ceb-8361aaab561f",
   "metadata": {},
   "outputs": [],
   "source": [
    "judges_dist['First Episode'] = np.zeros((336,1))\n",
    "judges_dist['First Episode BF win'] = np.zeros((336,1))\n",
    "for row1 in range(len(judges_dist)):\n",
    "    judge_appearances = []\n",
    "    for row2 in range(len(data)):\n",
    "        if data.loc[row2, 'judge1'] == judges_dist.loc[row1, 'Judge'] or data.loc[row2, 'judge2'] == judges_dist.loc[row1, 'Judge'] or data.loc[row2, 'judge3'] == judges_dist.loc[row1, 'Judge']:\n",
    "            judge_appearances.append(data.loc[row2, 'num_overall'])\n",
    "    judges_dist.loc[row1, 'First Episode'] = min(judge_appearances)"
   ]
  },
  {
   "cell_type": "code",
   "execution_count": 36,
   "id": "502ba065-269b-4641-ad5d-5b174a5c0e4b",
   "metadata": {},
   "outputs": [],
   "source": [
    "for row1 in range(len(judges_dist)):\n",
    "    judges_dist.loc[row1, 'First Episode BF win'] = data[data['num_overall'] == judges_dist.loc[row1, 'First Episode']].Win.item()"
   ]
  },
  {
   "cell_type": "code",
   "execution_count": 37,
   "id": "28923f9a-4726-49ed-8aef-d46ff421620e",
   "metadata": {},
   "outputs": [
    {
     "data": {
      "text/html": [
       "<div>\n",
       "<style scoped>\n",
       "    .dataframe tbody tr th:only-of-type {\n",
       "        vertical-align: middle;\n",
       "    }\n",
       "\n",
       "    .dataframe tbody tr th {\n",
       "        vertical-align: top;\n",
       "    }\n",
       "\n",
       "    .dataframe thead th {\n",
       "        text-align: right;\n",
       "    }\n",
       "</style>\n",
       "<table border=\"1\" class=\"dataframe\">\n",
       "  <thead>\n",
       "    <tr style=\"text-align: right;\">\n",
       "      <th></th>\n",
       "      <th>Judge</th>\n",
       "      <th>Number of Appearances</th>\n",
       "      <th>Bobby Flay victories</th>\n",
       "      <th>Bobby Flay Win PCT</th>\n",
       "      <th>First Episode</th>\n",
       "      <th>First Episode BF win</th>\n",
       "    </tr>\n",
       "  </thead>\n",
       "  <tbody>\n",
       "    <tr>\n",
       "      <th>0</th>\n",
       "      <td>Abigail Hitchcock</td>\n",
       "      <td>3</td>\n",
       "      <td>2.0</td>\n",
       "      <td>0.666667</td>\n",
       "      <td>165.0</td>\n",
       "      <td>True</td>\n",
       "    </tr>\n",
       "    <tr>\n",
       "      <th>1</th>\n",
       "      <td>Adam Greenberg</td>\n",
       "      <td>1</td>\n",
       "      <td>1.0</td>\n",
       "      <td>1.000000</td>\n",
       "      <td>258.0</td>\n",
       "      <td>True</td>\n",
       "    </tr>\n",
       "    <tr>\n",
       "      <th>2</th>\n",
       "      <td>Adam Sappington</td>\n",
       "      <td>1</td>\n",
       "      <td>1.0</td>\n",
       "      <td>1.000000</td>\n",
       "      <td>270.0</td>\n",
       "      <td>True</td>\n",
       "    </tr>\n",
       "    <tr>\n",
       "      <th>3</th>\n",
       "      <td>Adrienne Cheatham</td>\n",
       "      <td>4</td>\n",
       "      <td>2.0</td>\n",
       "      <td>0.500000</td>\n",
       "      <td>253.0</td>\n",
       "      <td>True</td>\n",
       "    </tr>\n",
       "    <tr>\n",
       "      <th>4</th>\n",
       "      <td>Akhtar Nawab</td>\n",
       "      <td>4</td>\n",
       "      <td>2.0</td>\n",
       "      <td>0.500000</td>\n",
       "      <td>179.0</td>\n",
       "      <td>True</td>\n",
       "    </tr>\n",
       "  </tbody>\n",
       "</table>\n",
       "</div>"
      ],
      "text/plain": [
       "               Judge  Number of Appearances  Bobby Flay victories  \\\n",
       "0  Abigail Hitchcock                      3                   2.0   \n",
       "1     Adam Greenberg                      1                   1.0   \n",
       "2    Adam Sappington                      1                   1.0   \n",
       "3  Adrienne Cheatham                      4                   2.0   \n",
       "4       Akhtar Nawab                      4                   2.0   \n",
       "\n",
       "   Bobby Flay Win PCT  First Episode First Episode BF win  \n",
       "0            0.666667          165.0                 True  \n",
       "1            1.000000          258.0                 True  \n",
       "2            1.000000          270.0                 True  \n",
       "3            0.500000          253.0                 True  \n",
       "4            0.500000          179.0                 True  "
      ]
     },
     "execution_count": 37,
     "metadata": {},
     "output_type": "execute_result"
    }
   ],
   "source": [
    "judges_dist.head()"
   ]
  },
  {
   "cell_type": "code",
   "execution_count": 38,
   "id": "0e5faf1b-be47-4de0-9605-c72ce1da54dc",
   "metadata": {},
   "outputs": [
    {
     "data": {
      "text/plain": [
       "0.6547619047619048"
      ]
     },
     "execution_count": 38,
     "metadata": {},
     "output_type": "execute_result"
    }
   ],
   "source": [
    "judges_dist['First Episode BF win'].sum() / len(judges_dist)"
   ]
  },
  {
   "cell_type": "markdown",
   "id": "7dfcf8ed-f7a5-4097-894c-0327ce7fdc69",
   "metadata": {},
   "source": [
    "Bobby Flay wins 65.5% of episodes where at least one of the judges is new. This is not significantly different than his overall 63% win rate. We conclude that whether or not a judge was a first time judge does not have an effect on Bobby Flay's win percentage.\n",
    "\n",
    "## Contestants\n",
    "\n",
    "Now, we look at another important factor: the contestant. While majority of them are new people, there are repeaters. We will analyze those that have been on the show multiple times, and how they performed."
   ]
  },
  {
   "cell_type": "code",
   "execution_count": 39,
   "id": "fc64b898-0d90-429f-acb5-eba3d37ceb52",
   "metadata": {},
   "outputs": [],
   "source": [
    "contestants = data[['contestant1', 'contestant2']]\n",
    "unique_cont1 = data['contestant1'].unique()\n",
    "unique_cont2 = data['contestant2'].unique()\n",
    "total_cont = np.concatenate((unique_cont1, unique_cont2))\n",
    "unique_cont = np.unique(total_cont)"
   ]
  },
  {
   "cell_type": "code",
   "execution_count": 40,
   "id": "223d3bda-c6ce-40cc-b577-1088bc0b3c42",
   "metadata": {},
   "outputs": [
    {
     "data": {
      "text/plain": [
       "586"
      ]
     },
     "execution_count": 40,
     "metadata": {},
     "output_type": "execute_result"
    }
   ],
   "source": [
    "len(unique_cont)"
   ]
  },
  {
   "cell_type": "markdown",
   "id": "fd2cb418-5d45-4cb8-8443-51528994ab13",
   "metadata": {},
   "source": [
    "There are 586 unique contestants (out of the 612 possible spots over 306 episodes)."
   ]
  },
  {
   "cell_type": "code",
   "execution_count": 41,
   "id": "abd5dfea-9319-4892-ba85-3687de1ec8d5",
   "metadata": {},
   "outputs": [],
   "source": [
    "d2 = {}\n",
    "for i in unique_cont:\n",
    "    d2[i] = 0\n",
    "    for row in range(len(contestants)):\n",
    "        for column in range(2):\n",
    "            if contestants.iloc[row, column] == i:\n",
    "                d2[i] += 1"
   ]
  },
  {
   "cell_type": "code",
   "execution_count": 42,
   "id": "24c21daf-756c-49a3-9379-9eb9537189b3",
   "metadata": {},
   "outputs": [],
   "source": [
    "conts = pd.DataFrame(d2.items(), columns = ['Contestant', 'Number of Appearances'])\n",
    "mult_cont = conts[conts['Number of Appearances'] > 1].reset_index()"
   ]
  },
  {
   "cell_type": "code",
   "execution_count": 43,
   "id": "9f5ef454-2efe-44da-8882-7863d997e11c",
   "metadata": {},
   "outputs": [
    {
     "data": {
      "text/html": [
       "<div>\n",
       "<style scoped>\n",
       "    .dataframe tbody tr th:only-of-type {\n",
       "        vertical-align: middle;\n",
       "    }\n",
       "\n",
       "    .dataframe tbody tr th {\n",
       "        vertical-align: top;\n",
       "    }\n",
       "\n",
       "    .dataframe thead th {\n",
       "        text-align: right;\n",
       "    }\n",
       "</style>\n",
       "<table border=\"1\" class=\"dataframe\">\n",
       "  <thead>\n",
       "    <tr style=\"text-align: right;\">\n",
       "      <th></th>\n",
       "      <th>index</th>\n",
       "      <th>Contestant</th>\n",
       "      <th>Number of Appearances</th>\n",
       "    </tr>\n",
       "  </thead>\n",
       "  <tbody>\n",
       "    <tr>\n",
       "      <th>0</th>\n",
       "      <td>17</td>\n",
       "      <td>Alex Guarnaschelli</td>\n",
       "      <td>3</td>\n",
       "    </tr>\n",
       "    <tr>\n",
       "      <th>1</th>\n",
       "      <td>39</td>\n",
       "      <td>Angelo Sosa</td>\n",
       "      <td>2</td>\n",
       "    </tr>\n",
       "    <tr>\n",
       "      <th>2</th>\n",
       "      <td>43</td>\n",
       "      <td>Anne Burrell</td>\n",
       "      <td>2</td>\n",
       "    </tr>\n",
       "    <tr>\n",
       "      <th>3</th>\n",
       "      <td>45</td>\n",
       "      <td>Anthony Lamas</td>\n",
       "      <td>2</td>\n",
       "    </tr>\n",
       "    <tr>\n",
       "      <th>4</th>\n",
       "      <td>67</td>\n",
       "      <td>Blythe Beck</td>\n",
       "      <td>2</td>\n",
       "    </tr>\n",
       "  </tbody>\n",
       "</table>\n",
       "</div>"
      ],
      "text/plain": [
       "   index          Contestant  Number of Appearances\n",
       "0     17  Alex Guarnaschelli                      3\n",
       "1     39         Angelo Sosa                      2\n",
       "2     43        Anne Burrell                      2\n",
       "3     45       Anthony Lamas                      2\n",
       "4     67         Blythe Beck                      2"
      ]
     },
     "execution_count": 43,
     "metadata": {},
     "output_type": "execute_result"
    }
   ],
   "source": [
    "mult_cont[0:5]"
   ]
  },
  {
   "cell_type": "markdown",
   "id": "9193630b-eaf6-461c-88b3-de6b0b21f181",
   "metadata": {},
   "source": [
    "Only one contestant has been on the show 3 times. 24 others have been on the show twice. I will now add to the table the first and second time that every contestant appeared, the results of those episodes, and the cuisine that the chef picked. Alex Guarnaschelli, the only person who competed three times, lost in the first round on his third appearance."
   ]
  },
  {
   "cell_type": "code",
   "execution_count": 44,
   "id": "5a4ecd14-7219-42a0-8255-d41812bfe2c9",
   "metadata": {},
   "outputs": [],
   "source": [
    "mult_cont['First Episode'] = np.zeros((25,1))\n",
    "mult_cont['First Episode Winner'] = np.zeros((25,1))\n",
    "mult_cont['First Episode Cuisine'] = np.zeros((25,1))\n",
    "mult_cont['Second Episode'] = np.zeros((25,1))\n",
    "mult_cont['Second Episode Winner'] = np.zeros((25,1))\n",
    "mult_cont['Second Episode Cuisine'] = np.zeros((25,1))\n",
    "for row1 in range(len(mult_cont)):\n",
    "    contestant_appearances = []\n",
    "    for row2 in range(len(data)):\n",
    "        if data.loc[row2, 'contestant1'] == mult_cont.loc[row1, 'Contestant'] or data.loc[row2, 'contestant2'] == mult_cont.loc[row1, 'Contestant']:\n",
    "            contestant_appearances.append(data.loc[row2, 'num_overall'])\n",
    "    mult_cont.loc[row1, 'First Episode'] = min(contestant_appearances)\n",
    "    mult_cont.loc[row1, 'First Episode Winner'] = data[data['num_overall'] == mult_cont.loc[row1, 'First Episode']].winner.item()\n",
    "    mult_cont.loc[row1, 'First Episode Cuisine'] = data[data['num_overall'] == mult_cont.loc[row1, 'First Episode']].cuisine_type.item()\n",
    "    mult_cont.loc[row1, 'Second Episode'] = contestant_appearances[1]\n",
    "    mult_cont.loc[row1, 'Second Episode Winner'] = data[data['num_overall'] == mult_cont.loc[row1, 'Second Episode']].winner.item()\n",
    "    mult_cont.loc[row1, 'Second Episode Cuisine'] = data[data['num_overall'] == mult_cont.loc[row1, 'Second Episode']].cuisine_type.item()"
   ]
  },
  {
   "cell_type": "code",
   "execution_count": 45,
   "id": "17646c65-b168-48bb-87ae-3bc71aa6ace7",
   "metadata": {},
   "outputs": [
    {
     "data": {
      "text/html": [
       "<div>\n",
       "<style scoped>\n",
       "    .dataframe tbody tr th:only-of-type {\n",
       "        vertical-align: middle;\n",
       "    }\n",
       "\n",
       "    .dataframe tbody tr th {\n",
       "        vertical-align: top;\n",
       "    }\n",
       "\n",
       "    .dataframe thead th {\n",
       "        text-align: right;\n",
       "    }\n",
       "</style>\n",
       "<table border=\"1\" class=\"dataframe\">\n",
       "  <thead>\n",
       "    <tr style=\"text-align: right;\">\n",
       "      <th></th>\n",
       "      <th>index</th>\n",
       "      <th>Contestant</th>\n",
       "      <th>Number of Appearances</th>\n",
       "      <th>First Episode</th>\n",
       "      <th>First Episode Winner</th>\n",
       "      <th>First Episode Cuisine</th>\n",
       "      <th>Second Episode</th>\n",
       "      <th>Second Episode Winner</th>\n",
       "      <th>Second Episode Cuisine</th>\n",
       "    </tr>\n",
       "  </thead>\n",
       "  <tbody>\n",
       "    <tr>\n",
       "      <th>0</th>\n",
       "      <td>17</td>\n",
       "      <td>Alex Guarnaschelli</td>\n",
       "      <td>3</td>\n",
       "      <td>82.0</td>\n",
       "      <td>Alex Guarnaschelli</td>\n",
       "      <td>American</td>\n",
       "      <td>140.0</td>\n",
       "      <td>Alex Guarnaschelli</td>\n",
       "      <td>French</td>\n",
       "    </tr>\n",
       "    <tr>\n",
       "      <th>1</th>\n",
       "      <td>39</td>\n",
       "      <td>Angelo Sosa</td>\n",
       "      <td>2</td>\n",
       "      <td>48.0</td>\n",
       "      <td>Bobby Flay</td>\n",
       "      <td>Central Europe</td>\n",
       "      <td>62.0</td>\n",
       "      <td>Bobby Flay</td>\n",
       "      <td>Mexican</td>\n",
       "    </tr>\n",
       "    <tr>\n",
       "      <th>2</th>\n",
       "      <td>43</td>\n",
       "      <td>Anne Burrell</td>\n",
       "      <td>2</td>\n",
       "      <td>95.0</td>\n",
       "      <td>Anne Burrell</td>\n",
       "      <td>Eastern Europe</td>\n",
       "      <td>142.0</td>\n",
       "      <td>Marcus Samuelsson</td>\n",
       "      <td>Middle Eastern</td>\n",
       "    </tr>\n",
       "    <tr>\n",
       "      <th>3</th>\n",
       "      <td>45</td>\n",
       "      <td>Anthony Lamas</td>\n",
       "      <td>2</td>\n",
       "      <td>2.0</td>\n",
       "      <td>Bobby Flay</td>\n",
       "      <td>American</td>\n",
       "      <td>65.0</td>\n",
       "      <td>Bobby Flay</td>\n",
       "      <td>South American</td>\n",
       "    </tr>\n",
       "    <tr>\n",
       "      <th>4</th>\n",
       "      <td>67</td>\n",
       "      <td>Blythe Beck</td>\n",
       "      <td>2</td>\n",
       "      <td>28.0</td>\n",
       "      <td>Bobby Flay</td>\n",
       "      <td>British</td>\n",
       "      <td>62.0</td>\n",
       "      <td>Bobby Flay</td>\n",
       "      <td>Mexican</td>\n",
       "    </tr>\n",
       "  </tbody>\n",
       "</table>\n",
       "</div>"
      ],
      "text/plain": [
       "   index          Contestant  Number of Appearances  First Episode  \\\n",
       "0     17  Alex Guarnaschelli                      3           82.0   \n",
       "1     39         Angelo Sosa                      2           48.0   \n",
       "2     43        Anne Burrell                      2           95.0   \n",
       "3     45       Anthony Lamas                      2            2.0   \n",
       "4     67         Blythe Beck                      2           28.0   \n",
       "\n",
       "  First Episode Winner First Episode Cuisine  Second Episode  \\\n",
       "0   Alex Guarnaschelli              American           140.0   \n",
       "1           Bobby Flay        Central Europe            62.0   \n",
       "2         Anne Burrell        Eastern Europe           142.0   \n",
       "3           Bobby Flay              American            65.0   \n",
       "4           Bobby Flay               British            62.0   \n",
       "\n",
       "  Second Episode Winner Second Episode Cuisine  \n",
       "0    Alex Guarnaschelli                 French  \n",
       "1            Bobby Flay                Mexican  \n",
       "2     Marcus Samuelsson         Middle Eastern  \n",
       "3            Bobby Flay         South American  \n",
       "4            Bobby Flay                Mexican  "
      ]
     },
     "execution_count": 45,
     "metadata": {},
     "output_type": "execute_result"
    }
   ],
   "source": [
    "mult_cont.head()"
   ]
  },
  {
   "cell_type": "code",
   "execution_count": 46,
   "id": "247fc04b-458e-4e58-94a2-3109a1c7a1e4",
   "metadata": {},
   "outputs": [
    {
     "data": {
      "text/plain": [
       "55.12"
      ]
     },
     "execution_count": 46,
     "metadata": {},
     "output_type": "execute_result"
    }
   ],
   "source": [
    "(mult_cont['Second Episode'] - mult_cont['First Episode']).mean()"
   ]
  },
  {
   "cell_type": "markdown",
   "id": "9b36677f-c5c1-4940-94bc-22db4111d99b",
   "metadata": {},
   "source": [
    "On average, a contestant that repeats comes on 55 episodes later. Because each season is around 13 episodes, a contestant generally comes back 4 seasons after he or she first appeared.\n",
    "\n",
    "### Redemption"
   ]
  },
  {
   "cell_type": "code",
   "execution_count": 47,
   "id": "e1791ced-b0f3-4cf1-a86c-3554f78e33d2",
   "metadata": {},
   "outputs": [
    {
     "data": {
      "text/plain": [
       "22"
      ]
     },
     "execution_count": 47,
     "metadata": {},
     "output_type": "execute_result"
    }
   ],
   "source": [
    "redemption = mult_cont[mult_cont['First Episode Winner'] == 'Bobby Flay']\n",
    "len(redemption)"
   ]
  },
  {
   "cell_type": "markdown",
   "id": "845cc583-7556-4cfa-86ce-e9d0a98710f5",
   "metadata": {},
   "source": [
    "Of the 25 chefs who went back on the show, 22 of them lost the first time they appeared. They rejoined the show later in hopes of redemption against Bobby Flay. "
   ]
  },
  {
   "cell_type": "code",
   "execution_count": 48,
   "id": "4ffcb6a8-7a13-4958-9db6-ce589a43da86",
   "metadata": {},
   "outputs": [
    {
     "data": {
      "text/html": [
       "<div>\n",
       "<style scoped>\n",
       "    .dataframe tbody tr th:only-of-type {\n",
       "        vertical-align: middle;\n",
       "    }\n",
       "\n",
       "    .dataframe tbody tr th {\n",
       "        vertical-align: top;\n",
       "    }\n",
       "\n",
       "    .dataframe thead th {\n",
       "        text-align: right;\n",
       "    }\n",
       "</style>\n",
       "<table border=\"1\" class=\"dataframe\">\n",
       "  <thead>\n",
       "    <tr style=\"text-align: right;\">\n",
       "      <th></th>\n",
       "      <th>index</th>\n",
       "      <th>Contestant</th>\n",
       "      <th>Number of Appearances</th>\n",
       "      <th>First Episode</th>\n",
       "      <th>First Episode Winner</th>\n",
       "      <th>First Episode Cuisine</th>\n",
       "      <th>Second Episode</th>\n",
       "      <th>Second Episode Winner</th>\n",
       "      <th>Second Episode Cuisine</th>\n",
       "    </tr>\n",
       "  </thead>\n",
       "  <tbody>\n",
       "    <tr>\n",
       "      <th>5</th>\n",
       "      <td>87</td>\n",
       "      <td>Bruce Kalman</td>\n",
       "      <td>2</td>\n",
       "      <td>10.0</td>\n",
       "      <td>Bobby Flay</td>\n",
       "      <td>Italian</td>\n",
       "      <td>63.0</td>\n",
       "      <td>Bruce Kalman</td>\n",
       "      <td>Italian</td>\n",
       "    </tr>\n",
       "    <tr>\n",
       "      <th>9</th>\n",
       "      <td>172</td>\n",
       "      <td>Einat Admony</td>\n",
       "      <td>2</td>\n",
       "      <td>144.0</td>\n",
       "      <td>Bobby Flay</td>\n",
       "      <td>Central Europe</td>\n",
       "      <td>228.0</td>\n",
       "      <td>Michael Psilakis</td>\n",
       "      <td>Central Europe</td>\n",
       "    </tr>\n",
       "    <tr>\n",
       "      <th>11</th>\n",
       "      <td>224</td>\n",
       "      <td>Ivana Raca</td>\n",
       "      <td>2</td>\n",
       "      <td>137.0</td>\n",
       "      <td>Bobby Flay</td>\n",
       "      <td>Italian</td>\n",
       "      <td>204.0</td>\n",
       "      <td>Ivana Raca</td>\n",
       "      <td>Italian</td>\n",
       "    </tr>\n",
       "    <tr>\n",
       "      <th>15</th>\n",
       "      <td>397</td>\n",
       "      <td>Michael Psilakis</td>\n",
       "      <td>2</td>\n",
       "      <td>198.0</td>\n",
       "      <td>Bobby Flay</td>\n",
       "      <td>Indian</td>\n",
       "      <td>228.0</td>\n",
       "      <td>Michael Psilakis</td>\n",
       "      <td>Central Europe</td>\n",
       "    </tr>\n",
       "    <tr>\n",
       "      <th>18</th>\n",
       "      <td>443</td>\n",
       "      <td>Pasquale Cozzolino</td>\n",
       "      <td>2</td>\n",
       "      <td>153.0</td>\n",
       "      <td>Bobby Flay</td>\n",
       "      <td>American</td>\n",
       "      <td>204.0</td>\n",
       "      <td>Ivana Raca</td>\n",
       "      <td>Italian</td>\n",
       "    </tr>\n",
       "    <tr>\n",
       "      <th>19</th>\n",
       "      <td>454</td>\n",
       "      <td>Paulette Goto</td>\n",
       "      <td>2</td>\n",
       "      <td>190.0</td>\n",
       "      <td>Bobby Flay</td>\n",
       "      <td>Indian</td>\n",
       "      <td>243.0</td>\n",
       "      <td>Zac Young</td>\n",
       "      <td>French</td>\n",
       "    </tr>\n",
       "    <tr>\n",
       "      <th>21</th>\n",
       "      <td>545</td>\n",
       "      <td>Thomas Boemer</td>\n",
       "      <td>2</td>\n",
       "      <td>154.0</td>\n",
       "      <td>Bobby Flay</td>\n",
       "      <td>American</td>\n",
       "      <td>197.0</td>\n",
       "      <td>Thomas Boemer</td>\n",
       "      <td>Chinese</td>\n",
       "    </tr>\n",
       "  </tbody>\n",
       "</table>\n",
       "</div>"
      ],
      "text/plain": [
       "    index          Contestant  Number of Appearances  First Episode  \\\n",
       "5      87        Bruce Kalman                      2           10.0   \n",
       "9     172        Einat Admony                      2          144.0   \n",
       "11    224          Ivana Raca                      2          137.0   \n",
       "15    397    Michael Psilakis                      2          198.0   \n",
       "18    443  Pasquale Cozzolino                      2          153.0   \n",
       "19    454       Paulette Goto                      2          190.0   \n",
       "21    545       Thomas Boemer                      2          154.0   \n",
       "\n",
       "   First Episode Winner First Episode Cuisine  Second Episode  \\\n",
       "5            Bobby Flay               Italian            63.0   \n",
       "9            Bobby Flay        Central Europe           228.0   \n",
       "11           Bobby Flay               Italian           204.0   \n",
       "15           Bobby Flay                Indian           228.0   \n",
       "18           Bobby Flay              American           204.0   \n",
       "19           Bobby Flay                Indian           243.0   \n",
       "21           Bobby Flay              American           197.0   \n",
       "\n",
       "   Second Episode Winner Second Episode Cuisine  \n",
       "5           Bruce Kalman                Italian  \n",
       "9       Michael Psilakis         Central Europe  \n",
       "11            Ivana Raca                Italian  \n",
       "15      Michael Psilakis         Central Europe  \n",
       "18            Ivana Raca                Italian  \n",
       "19             Zac Young                 French  \n",
       "21         Thomas Boemer                Chinese  "
      ]
     },
     "execution_count": 48,
     "metadata": {},
     "output_type": "execute_result"
    }
   ],
   "source": [
    "redemption[redemption['Second Episode Winner'] != 'Bobby Flay']"
   ]
  },
  {
   "cell_type": "markdown",
   "id": "98bf0c91-16db-4d0f-8205-797423ce99cf",
   "metadata": {},
   "source": [
    "Only 7 of the 22 were able to beat Bobby Flay on their second try. This means that given the fact that Bobby Flay won against someone the first time, he still has a 68% (15/22) win rate against the same people. \n",
    "\n",
    "Interestingly, 3 of those 7 winners kept the same cuisine, while 4 of the 7 changed the cuisine of their chosen dish. Perhaps even more interestingly, out of the 15 people who lost twice to Bobby Flay, only 4 kept the same cuisine. This means 11 people seeking redemption switched the entire cuisine of their chosen dish, and still got beat, truly highlighting Bobby Flay's versatility and knowledge.\n",
    "\n",
    "### Repeaters"
   ]
  },
  {
   "cell_type": "code",
   "execution_count": 49,
   "id": "f749d2f1-f1c2-4e9f-a10c-4f5e3aad6f31",
   "metadata": {},
   "outputs": [
    {
     "data": {
      "text/html": [
       "<div>\n",
       "<style scoped>\n",
       "    .dataframe tbody tr th:only-of-type {\n",
       "        vertical-align: middle;\n",
       "    }\n",
       "\n",
       "    .dataframe tbody tr th {\n",
       "        vertical-align: top;\n",
       "    }\n",
       "\n",
       "    .dataframe thead th {\n",
       "        text-align: right;\n",
       "    }\n",
       "</style>\n",
       "<table border=\"1\" class=\"dataframe\">\n",
       "  <thead>\n",
       "    <tr style=\"text-align: right;\">\n",
       "      <th></th>\n",
       "      <th>index</th>\n",
       "      <th>Contestant</th>\n",
       "      <th>Number of Appearances</th>\n",
       "      <th>First Episode</th>\n",
       "      <th>First Episode Winner</th>\n",
       "      <th>First Episode Cuisine</th>\n",
       "      <th>Second Episode</th>\n",
       "      <th>Second Episode Winner</th>\n",
       "      <th>Second Episode Cuisine</th>\n",
       "    </tr>\n",
       "  </thead>\n",
       "  <tbody>\n",
       "    <tr>\n",
       "      <th>0</th>\n",
       "      <td>17</td>\n",
       "      <td>Alex Guarnaschelli</td>\n",
       "      <td>3</td>\n",
       "      <td>82.0</td>\n",
       "      <td>Alex Guarnaschelli</td>\n",
       "      <td>American</td>\n",
       "      <td>140.0</td>\n",
       "      <td>Alex Guarnaschelli</td>\n",
       "      <td>French</td>\n",
       "    </tr>\n",
       "    <tr>\n",
       "      <th>2</th>\n",
       "      <td>43</td>\n",
       "      <td>Anne Burrell</td>\n",
       "      <td>2</td>\n",
       "      <td>95.0</td>\n",
       "      <td>Anne Burrell</td>\n",
       "      <td>Eastern Europe</td>\n",
       "      <td>142.0</td>\n",
       "      <td>Marcus Samuelsson</td>\n",
       "      <td>Middle Eastern</td>\n",
       "    </tr>\n",
       "    <tr>\n",
       "      <th>24</th>\n",
       "      <td>581</td>\n",
       "      <td>Zac Young</td>\n",
       "      <td>2</td>\n",
       "      <td>118.0</td>\n",
       "      <td>Francois Payard</td>\n",
       "      <td>French</td>\n",
       "      <td>243.0</td>\n",
       "      <td>Zac Young</td>\n",
       "      <td>French</td>\n",
       "    </tr>\n",
       "  </tbody>\n",
       "</table>\n",
       "</div>"
      ],
      "text/plain": [
       "    index          Contestant  Number of Appearances  First Episode  \\\n",
       "0      17  Alex Guarnaschelli                      3           82.0   \n",
       "2      43        Anne Burrell                      2           95.0   \n",
       "24    581           Zac Young                      2          118.0   \n",
       "\n",
       "   First Episode Winner First Episode Cuisine  Second Episode  \\\n",
       "0    Alex Guarnaschelli              American           140.0   \n",
       "2          Anne Burrell        Eastern Europe           142.0   \n",
       "24      Francois Payard                French           243.0   \n",
       "\n",
       "   Second Episode Winner Second Episode Cuisine  \n",
       "0     Alex Guarnaschelli                 French  \n",
       "2      Marcus Samuelsson         Middle Eastern  \n",
       "24             Zac Young                 French  "
      ]
     },
     "execution_count": 49,
     "metadata": {},
     "output_type": "execute_result"
    }
   ],
   "source": [
    "repeaters = mult_cont[mult_cont['First Episode Winner'] != 'Bobby Flay']\n",
    "repeaters"
   ]
  },
  {
   "cell_type": "markdown",
   "id": "998d1446-7d0d-4bf6-b958-1c246d310de8",
   "metadata": {},
   "source": [
    "All three of these contestants tell a different story.\n",
    "\n",
    "Alex Guarnaschelli is the only contestant to ever Beat Bobby Flay twice. He did so first with an American dish, then with a French dish. As stated earlier, he attempted a three-peat but lost in the first round. Meanwhile, Anne Burrell won in her first appearance, but lost in the first round of her second run. Zac Young is actually not a repeater; he lost in the first round of his first try. However, he came back on the show (125 episodes later!) and Beat Bobby Flay."
   ]
  },
  {
   "cell_type": "code",
   "execution_count": 50,
   "id": "11cf8e25-94e7-41d2-bb9e-eeab898ac591",
   "metadata": {},
   "outputs": [
    {
     "data": {
      "image/png": "[encoded data removed]",
      "text/plain": [
       "<Figure size 432x288 with 1 Axes>"
      ]
     },
     "metadata": {},
     "output_type": "display_data"
    }
   ],
   "source": [
    "x = [16, 7, 1, 1]\n",
    "plt.pie(x, colors = ['firebrick', 'palegreen', 'forestgreen', 'tomato'], startangle = 0)\n",
    "plt.title('Contestants That Appeared on Show Twice')\n",
    "labels = ['Lost to Bobby Flay Twice', 'Lost First Time, Won Second', 'Won Both Times', \n",
    "           'Won First Time, Lost Second']\n",
    "plt.legend(labels, loc = 'right')\n",
    "plt.show()"
   ]
  },
  {
   "cell_type": "code",
   "execution_count": null,
   "id": "e4a6a682-b6a5-4ef0-9d21-4329a2b62295",
   "metadata": {},
   "outputs": [],
   "source": []
  },
  {
   "cell_type": "markdown",
   "id": "ac5825b0-ad9c-4ba9-b2b5-b0c3a83d3d9f",
   "metadata": {},
   "source": [
    "## Conclusion\n",
    "\n",
    "Through all the possible significant trends we have explored in the show *Beat Bobby Flay*, the overall message is clear: Bobby Flay is one talented, talented chef, and there is nothing one could do to ensure victory against him.\n",
    "\n",
    "We've found that a contestant is more likely to win in a Season Opener, but much less likely to win in a Season Finale. As for dishes, a Chinese dish has the highest chance to stump Bobby Flay, but he can win in any cuisine around the world. A contestant wins more often when Tricia Williams or Paulette Goto are judges, but good luck if Lourdes Castro is a judge; he loves Flay. It does not matter whether a judge is a first-time judge or not; the results will probably be the same. And lastly, repeating on the show (whether the first time was a success or not) does not bode well. \n",
    "\n",
    "Overall, there were some interesting trends with our data, but no signficant conclusions that could lead us to guiding a contestant to beat Bobby Flay. "
   ]
  }
 ],
 "metadata": {
  "kernelspec": {
   "display_name": "Python 3 (ipykernel)",
   "language": "python",
   "name": "python3"
  },
  "language_info": {
   "codemirror_mode": {
    "name": "ipython",
    "version": 3
   },
   "file_extension": ".py",
   "mimetype": "text/x-python",
   "name": "python",
   "nbconvert_exporter": "python",
   "pygments_lexer": "ipython3",
   "version": "3.9.12"
  }
 },
 "nbformat": 4,
 "nbformat_minor": 5
}
